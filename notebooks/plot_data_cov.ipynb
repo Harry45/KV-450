{
 "cells": [
  {
   "cell_type": "code",
   "execution_count": 1,
   "metadata": {},
   "outputs": [],
   "source": [
    "import numpy as np\n",
    "import matplotlib.pylab as plt\n",
    "import pandas as pd\n",
    "\n",
    "from matplotlib.collections import PatchCollection\n",
    "from matplotlib.patches import Rectangle\n",
    "\n",
    "plt.rc('text', usetex=True)\n",
    "plt.rc('font',**{'family':'sans-serif','serif':['Palatino']})\n",
    "figSize  = (12, 8)\n",
    "fontSize = 20"
   ]
  },
  {
   "cell_type": "markdown",
   "metadata": {},
   "source": [
    "### Data and Covariance"
   ]
  },
  {
   "cell_type": "code",
   "execution_count": null,
   "metadata": {},
   "outputs": [],
   "source": [
    "data = np.loadtxt('data/KV450_xi_pm_cut_to_cut_values_5zbins.dat', delimiter='\\t')"
   ]
  },
  {
   "cell_type": "code",
   "execution_count": null,
   "metadata": {},
   "outputs": [],
   "source": [
    "cov = np.loadtxt('data/Cov_mat_inc_m_cut_to_cut_values_5zbins.dat', delimiter='\\t')"
   ]
  },
  {
   "cell_type": "code",
   "execution_count": null,
   "metadata": {},
   "outputs": [],
   "source": [
    "ndata = data.shape[0]"
   ]
  },
  {
   "cell_type": "code",
   "execution_count": null,
   "metadata": {},
   "outputs": [],
   "source": [
    "covmat = cov[:,-1].reshape(ndata, ndata)\n",
    "var = np.diag(covmat)"
   ]
  },
  {
   "cell_type": "markdown",
   "metadata": {},
   "source": [
    "### Plot Covariance Matrix"
   ]
  },
  {
   "cell_type": "code",
   "execution_count": null,
   "metadata": {},
   "outputs": [],
   "source": [
    "new_cov = np.zeros((ndata, ndata))\n",
    "\n",
    "for i in range(ndata):\n",
    "\tfor j in range(ndata):\n",
    "\t\tnew_cov[i,j] = covmat[i,j]/np.sqrt(covmat[i,i]*covmat[j,j])"
   ]
  },
  {
   "cell_type": "code",
   "execution_count": null,
   "metadata": {},
   "outputs": [],
   "source": [
    "fig, ax = plt.subplots(figsize = (8,8))\n",
    "\n",
    "heatmap = ax.pcolor(new_cov, cmap=plt.cm.gist_heat.reversed())\n",
    "cbar = plt.colorbar(heatmap, fraction = 0.05)\n",
    "cbar.set_label(r'$\\frac{\\mathbf{C}_{ij}}{\\sqrt{\\mathbf{C}_{ii}\\mathbf{C}_{jj}}}$',size=18)\n",
    "cbar.ax.tick_params(labelsize=18) \n",
    "ax.get_xaxis().set_visible(False)\n",
    "ax.get_yaxis().set_visible(False)\n",
    "\n",
    "# want a more natural, table-like display\n",
    "ax.invert_yaxis()\n",
    "ax.xaxis.tick_top()\n",
    "\n",
    "# plt.savefig('data_cov.pdf', bbox_inches='tight')\n",
    "plt.show()"
   ]
  },
  {
   "cell_type": "markdown",
   "metadata": {},
   "source": [
    "### Theoretical Modelling"
   ]
  },
  {
   "cell_type": "code",
   "execution_count": null,
   "metadata": {},
   "outputs": [],
   "source": [
    "import cosmology.weaklensing as cw\n",
    "import setpriors as sp\n",
    "import utils.common as uc\n",
    "import numpy as np"
   ]
  },
  {
   "cell_type": "code",
   "execution_count": null,
   "metadata": {},
   "outputs": [],
   "source": [
    "module = cw.model(emulator=False, ds=False)"
   ]
  },
  {
   "cell_type": "code",
   "execution_count": null,
   "metadata": {},
   "outputs": [],
   "source": [
    "# parameters = np.array([0.138, 2.766, 0.022, 1.05, 0.735, -0.83, -0.06*10**-4, 1.032, 1.143])\n",
    "parameters = np.array([0.1456,  2.700,  0.02242,  1.005,  0.7393, -0.5302,  -2.572e-06, 1.024, 2.529])\n",
    "\n",
    "# the cosmology part\n",
    "cosmology = uc.mk_dict(sp.cosmo_names, parameters[0:5])\n",
    "\n",
    "# the nuisance part\n",
    "nuisance = uc.mk_dict(sp.nuisance_names, parameters[5:])"
   ]
  },
  {
   "cell_type": "code",
   "execution_count": null,
   "metadata": {},
   "outputs": [],
   "source": [
    "xi = module.total_corr(cosmology, nuisance)\n",
    "\n",
    "maskings = np.split(module.mask, 30)"
   ]
  },
  {
   "cell_type": "code",
   "execution_count": null,
   "metadata": {},
   "outputs": [],
   "source": [
    "# same for xi_plus and xi_minus\n",
    "# first seven bins for xi_plus\n",
    "# last six bins for xi_minus\n",
    "theta_bins = np.split(module.theta_bins, 2)[0]"
   ]
  },
  {
   "cell_type": "code",
   "execution_count": null,
   "metadata": {},
   "outputs": [],
   "source": [
    "xi_split = np.split(xi, 30)"
   ]
  },
  {
   "cell_type": "code",
   "execution_count": null,
   "metadata": {},
   "outputs": [],
   "source": [
    "rec_xi_p_times_theta = []\n",
    "rec_xi_m_times_theta = []\n",
    "\n",
    "mask_plus = []\n",
    "mask_minus = []\n",
    "\n",
    "for i in range(30):\n",
    "    if i%2 == 0:\n",
    "        rec_xi_p_times_theta.append(xi_split[i] * theta_bins)\n",
    "        mask_plus.append(maskings[i])\n",
    "        \n",
    "    else:\n",
    "        rec_xi_m_times_theta.append(xi_split[i] * theta_bins)\n",
    "        mask_minus.append(maskings[i])\n",
    "\n",
    "rec_xi_p_times_theta = np.asarray(rec_xi_p_times_theta)\n",
    "rec_xi_m_times_theta = np.asarray(rec_xi_m_times_theta)\n",
    "\n",
    "mask_plus = np.asarray(mask_plus)\n",
    "mask_minus = np.asarray(mask_minus)"
   ]
  },
  {
   "cell_type": "code",
   "execution_count": null,
   "metadata": {},
   "outputs": [],
   "source": [
    "# this is the masked xi times theta\n",
    "xi_plus_masked = rec_xi_p_times_theta[mask_plus == 1].reshape(15, 7)\n",
    "xi_minus_masked = rec_xi_m_times_theta[mask_minus == 1].reshape(15, 6)"
   ]
  },
  {
   "cell_type": "markdown",
   "metadata": {},
   "source": [
    "### Interpolate Them"
   ]
  },
  {
   "cell_type": "code",
   "execution_count": null,
   "metadata": {},
   "outputs": [],
   "source": [
    "theta_plus = theta_bins[0:7]\n",
    "theta_minus = theta_bins[3:]\n",
    "\n",
    "theta_grid_plus = np.linspace(theta_plus[0], theta_plus[-1], 1000)\n",
    "theta_grid_minus = np.linspace(theta_minus[0], theta_minus[-1], 1000)"
   ]
  },
  {
   "cell_type": "code",
   "execution_count": null,
   "metadata": {},
   "outputs": [],
   "source": [
    "# interpolated functions\n",
    "int_xi_plus = []\n",
    "int_xi_minus = []\n",
    "\n",
    "for i in range(15):\n",
    "    int_xi_plus.append(uc.interpolate([theta_plus, xi_plus_masked[i], theta_grid_plus]))\n",
    "    int_xi_minus.append(uc.interpolate([theta_minus, xi_minus_masked[i], theta_grid_minus]))\n",
    "    \n",
    "int_xi_plus = np.asarray(int_xi_plus)\n",
    "int_xi_minus = np.asarray(int_xi_minus)"
   ]
  },
  {
   "cell_type": "code",
   "execution_count": null,
   "metadata": {},
   "outputs": [],
   "source": [
    "theta_plus"
   ]
  },
  {
   "cell_type": "code",
   "execution_count": null,
   "metadata": {},
   "outputs": [],
   "source": [
    "theta_minus"
   ]
  },
  {
   "cell_type": "markdown",
   "metadata": {},
   "source": [
    "### Plot Correlation Functions"
   ]
  },
  {
   "cell_type": "code",
   "execution_count": null,
   "metadata": {},
   "outputs": [],
   "source": [
    "corr_plus = np.split(data[data[:,3] == 1], 15)\n",
    "var_plus = np.split(np.sqrt(var[data[:,3] == 1]), 15)\n",
    "\n",
    "corr_minus = np.split(data[data[:,3] == 2], 15)\n",
    "var_minus = np.split(np.sqrt(var[data[:,3] == 2]), 15)"
   ]
  },
  {
   "cell_type": "code",
   "execution_count": null,
   "metadata": {},
   "outputs": [],
   "source": [
    "f, ax = plt.subplots(7, 7, sharex=True, sharey = True, figsize = (15, 15))\n",
    "\n",
    "xLabel = r'$\\theta$'\n",
    "yLabel_p = r'$\\theta\\times\\xi_{+}$'\n",
    "yLabel_m = r'$\\theta\\times\\xi_{-}$'\n",
    "\n",
    "counter = 0\n",
    "\n",
    "for i in range(7):\n",
    "    for j in range(i+1):\n",
    "        \n",
    "        if (i<5 and j<5):\n",
    "        \n",
    "            labz = r'$z'+str(i+1)+'\\\\times z'+str(j+1)+'$'\n",
    "\n",
    "            arr_plus = corr_plus[counter]\n",
    "            std_plus = var_plus[counter]       \n",
    "            y_plus = arr_plus[:,1]*arr_plus[:,2]\n",
    "\n",
    "            arr_minus = corr_minus[counter]\n",
    "            std_minus = var_minus[counter]       \n",
    "            y_minus = arr_minus[:,1]*arr_minus[:,2]\n",
    "\n",
    "\n",
    "            ax[i+1,j].errorbar(arr_plus[:,1], y_plus, arr_plus[:,1]*std_plus, fmt='ro', ms=5, lw =2.5)\n",
    "            ax[i+1,j].plot(theta_grid_plus, int_xi_plus[counter], lw=2, c = 'g')\n",
    "            ax[i+1,j].axhline(1E-10, linestyle = '--')\n",
    "            ax[i+1,j].set_xlabel(xLabel, fontsize=fontSize)\n",
    "            ax[j,i+2].set_xlim(0.5, 300)\n",
    "            ax[i+1,j].set_ylim(-5E-4, 5E-4)\n",
    "            ax[i+1,j].set_xscale(\"log\")\n",
    "            ax[i+1,j].ticklabel_format(style='sci', axis='y', scilimits=(0,0))\n",
    "            ax[i+1,j].tick_params(axis = 'both', labelsize = fontSize, pad=10)\n",
    "            ax[i+1,j].tick_params(axis='both', which='both', length=0)\n",
    "            ax[i+1,j].annotate(labz, xy=(0.3, 0.85), xycoords='axes fraction', fontsize=16, horizontalalignment='center')\n",
    "\n",
    "            ax[j,i+2].errorbar(arr_minus[:,1], y_minus, arr_minus[:,1]*std_minus, fmt='ro', ms=5, lw =2.5)\n",
    "            ax[j,i+2].plot(theta_grid_minus, int_xi_minus[counter], lw=2, c = 'g')\n",
    "            ax[j,i+2].axhline(1E-10, linestyle = '--')\n",
    "            ax[j,i+2].set_xlabel(xLabel, fontsize=fontSize)\n",
    "            ax[j,i+2].set_xlim(0.5, 300)\n",
    "            ax[j,i+2].set_ylim(-5E-4, 5E-4)\n",
    "            ax[j,i+2].set_xscale(\"log\")\n",
    "            ax[j,i+2].ticklabel_format(style='sci', axis='y', scilimits=(0,0))\n",
    "            ax[j,i+2].tick_params(axis = 'both', labelsize = fontSize, pad=10)\n",
    "            ax[j,i+2].tick_params(axis='both', which='both', length=0)\n",
    "            ax[j,i+2].annotate(labz, xy=(0.3, 0.85), xycoords='axes fraction', fontsize=16, horizontalalignment='center')\n",
    "            \n",
    "            counter += 1\n",
    "\n",
    "            if j==0:\n",
    "                ax[i+1,j].set_ylabel(yLabel_p, fontsize=fontSize)\n",
    "            \n",
    "            if i==4:\n",
    "                ax[j,i+2].set_ylabel(yLabel_m, fontsize=fontSize, labelpad = 15)\n",
    "                ax[j,i+2].yaxis.set_label_position(\"right\")               \n",
    "            \n",
    "        if i==j:\n",
    "            ax[i,j].axis('off')\n",
    "            if j<=5:\n",
    "                ax[i,j+1].axis('off')\n",
    "                \n",
    "        if i==6:\n",
    "            ax[i,j].axis('off')\n",
    "\n",
    "f.subplots_adjust(wspace=0)\n",
    "f.subplots_adjust(hspace=0)\n",
    "# plt.savefig('plots/data_vector_theory.pdf', bbox_inches='tight')\n",
    "plt.show()"
   ]
  },
  {
   "cell_type": "markdown",
   "metadata": {},
   "source": [
    "# Tensions"
   ]
  },
  {
   "cell_type": "code",
   "execution_count": 14,
   "metadata": {},
   "outputs": [
    {
     "data": {
      "image/png": "[encoded data removed]",
      "text/plain": [
       "<Figure size 864x576 with 1 Axes>"
      ]
     },
     "metadata": {
      "needs_background": "light"
     },
     "output_type": "display_data"
    }
   ],
   "source": [
    "fig, ax = plt.subplots(figsize=(12, 8))\n",
    "ax.axis([-0.4, 1, 0.5, 4.0])\n",
    "start = -0.3\n",
    "cap_size = 5\n",
    "marker_size = 5\n",
    "\n",
    "# KiDS-1000\n",
    "ax.errorbar(0.761, 1.0, xerr = np.array([[0.033, 0.021]]).T, fmt = 'ro', markersize = marker_size, capsize=cap_size)\n",
    "ax.text(start, 1.0, 'KiDS-1000 (Band Powers)', size=fontSize+5, color='red')\n",
    "\n",
    "# HSC\n",
    "ax.errorbar(0.780, 1.5, xerr = np.array([[0.030, 0.030]]).T, fmt = 'bo', markersize = marker_size, capsize=cap_size)\n",
    "ax.text(start, 1.5, 'Subaru Hyper Suprime-Cam (Band Powers)', size=fontSize+5, color='blue')\n",
    "\n",
    "# DES\n",
    "ax.errorbar(0.782, 2.0, xerr = np.array([[0.030, 0.030]]).T, fmt = 'go', markersize = marker_size, capsize=cap_size)\n",
    "ax.text(start, 2.0, 'Dark Energy Survey (2PCFs)', size=fontSize+5, color='green')\n",
    "\n",
    "# this work\n",
    "# ax.errorbar(0.738, 2.5, xerr = np.array([[0.035, 0.036]]).T, fmt = 'ko', markersize = 5, capsize=5)\n",
    "# ax.text(0.05, 2.5, 'This work: KV-450 (2PCFs) - Mean of $n(z)$', size=fontSize, color='black')\n",
    "\n",
    "# this work 0.756 ± (0.039, 0.039)\n",
    "ax.errorbar(0.756, 2.5, xerr = np.array([[0.039, 0.039]]).T, fmt = 'ko', markersize = marker_size, capsize=cap_size)\n",
    "ax.text(start, 2.5, 'This work: KV-450 (2PCFs) - Samples of $n(z)$', size=fontSize+5, color='black')\n",
    "\n",
    "# KV-450\n",
    "ax.errorbar(0.737, 3.0, xerr = np.array([[0.036, 0.040]]).T, fmt = 'o', markersize = marker_size, capsize=cap_size, color = 'peru')\n",
    "ax.text(start, 3.0, 'KV-450 (2PCFs)', size=fontSize+5, color='peru')\n",
    "\n",
    "# Planck\n",
    "ax.errorbar(0.834, 3.5, xerr = np.array([[0.016, 0.016]]).T, fmt = 'o', markersize = marker_size, capsize=cap_size, color = 'purple')\n",
    "ax.text(start, 3.5, 'Planck 2018', size=fontSize+5, color='purple')\n",
    "\n",
    "ax.set_yticks([])\n",
    "ax.set_xticks([0.7, 0.8, 0.9, 1.0])\n",
    "ax.set_xlabel(r'$S_{8}\\equiv\\sigma_{8}\\sqrt{\\Omega_{\\textrm{m}}/0.3}$', fontsize = fontSize, labelpad=10)\n",
    "ax.tick_params(axis='x', labelsize=fontSize, pad = 10)\n",
    "\n",
    "ax.spines['top'].set_visible(False)\n",
    "ax.spines['right'].set_visible(False)\n",
    "# ax.spines['bottom'].set_visible(False)\n",
    "ax.spines['left'].set_visible(False)\n",
    "\n",
    "# plt.savefig('results/Paper/tensions.pdf', bbox_inches = 'tight')\n",
    "plt.show()"
   ]
  },
  {
   "cell_type": "code",
   "execution_count": null,
   "metadata": {},
   "outputs": [],
   "source": []
  }
 ],
 "metadata": {
  "kernelspec": {
   "display_name": "Python 3",
   "language": "python",
   "name": "python3"
  },
  "language_info": {
   "codemirror_mode": {
    "name": "ipython",
    "version": 3
   },
   "file_extension": ".py",
   "mimetype": "text/x-python",
   "name": "python",
   "nbconvert_exporter": "python",
   "pygments_lexer": "ipython3",
   "version": "3.7.6"
  }
 },
 "nbformat": 4,
 "nbformat_minor": 4
}
