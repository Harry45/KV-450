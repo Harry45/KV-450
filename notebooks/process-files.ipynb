{
 "cells": [
  {
   "cell_type": "code",
   "execution_count": 1,
   "metadata": {},
   "outputs": [],
   "source": [
    "import sys\n",
    "import os\n",
    "import numpy as np\n",
    "import matplotlib.pylab as plt \n",
    "\n",
    "plt.rc('text', usetex=True)\n",
    "plt.rc('font',**{'family':'sans-serif','serif':['Palatino']})\n",
    "figSize  = (12, 8)\n",
    "fontSize = 20"
   ]
  },
  {
   "cell_type": "code",
   "execution_count": 2,
   "metadata": {},
   "outputs": [],
   "source": [
    "folder = '/home/harry/Documents/Oxford/Projects/KV-450-Local/george-samples/'\n",
    "work_folder = '/home/harry/Documents/Oxford/Projects/KV-450/'"
   ]
  },
  {
   "cell_type": "code",
   "execution_count": 3,
   "metadata": {},
   "outputs": [],
   "source": [
    "# interval in redshifts\n",
    "z_interval = ['0.1t0.3', '0.3t0.5', '0.5t0.7', '0.7t0.9', '0.9t1.2']"
   ]
  },
  {
   "cell_type": "code",
   "execution_count": 4,
   "metadata": {},
   "outputs": [],
   "source": [
    "def load_set(number: int):\n",
    "    \"\"\"This function is used to create a subset of the data.\n",
    "\n",
    "    Args:\n",
    "        number (int): The number of objects to be selected.\n",
    "    \"\"\"\n",
    "\n",
    "    # file name\n",
    "    fname = folder + 'Nz_DIR' + str(number) + '/Nz_DIR'+str(number) + '_Bootstrap'\n",
    "    \n",
    "    records = list()\n",
    "    \n",
    "    for i in range(5):\n",
    "\n",
    "        file = fname + '/Nz_z' + z_interval[i]\n",
    "        file += '_FULL_DIR' + str(number) + '.asc'\n",
    "\n",
    "        # load the file\n",
    "        samples = np.loadtxt(file)\n",
    "        \n",
    "        records.append(samples)\n",
    "        \n",
    "    return records"
   ]
  },
  {
   "cell_type": "code",
   "execution_count": 27,
   "metadata": {},
   "outputs": [],
   "source": [
    "def trace_heights(samples: list, ntomo:int, height: int, nlast: int = 5000, save: bool = False, number: int = 2):\n",
    "    \"\"\"\n",
    "    samples is a list which contains n(z) samples for tomographic bins [0, 1, 2, 3, 4]\n",
    "    \"\"\"\n",
    "    selected_height = samples[ntomo][:,1:][height]\n",
    "    \n",
    "    num_height = len(selected_height)\n",
    "    \n",
    "    plt.figure(figsize = figSize)\n",
    "    plt.plot(selected_height)\n",
    "    plt.ylabel(f'$h_{height}^{ntomo}$', fontsize = fontSize)\n",
    "    plt.xlabel(r'$i$', fontsize = fontSize)\n",
    "    plt.tick_params(axis='x', labelsize=fontSize)\n",
    "    plt.tick_params(axis='y', labelsize=fontSize)\n",
    "    plt.xlim(0, num_height)\n",
    "    \n",
    "    if save:\n",
    "        folder = work_folder + f'plots/set_{nlast}_{number}/heights/'\n",
    "        os.makedirs(folder, exist_ok=True)\n",
    "        \n",
    "        fname = folder + f'{ntomo}_{height}'\n",
    "        plt.savefig(fname +'.png', bbox_inches = 'tight')\n",
    "        plt.savefig(fname +'.pdf', bbox_inches = 'tight')\n",
    "    plt.close() "
   ]
  },
  {
   "cell_type": "code",
   "execution_count": 28,
   "metadata": {},
   "outputs": [],
   "source": [
    "def thinning(samples: list, factor: int, nlast: int = 5000, save: bool = False, **kwargs):\n",
    "    \n",
    "    # number of redshift \n",
    "    nred = samples[0].shape[0]\n",
    "    \n",
    "    # the first column is redshift - so we subtract 1\n",
    "    nheights = samples[0].shape[1] - 1 \n",
    "\n",
    "    # the values of redshift\n",
    "    redshift = samples[0][:,0].reshape(nred, 1)\n",
    "    \n",
    "    files = {}\n",
    "    \n",
    "    for tomo in range(5):\n",
    "    \n",
    "        # the samples, thinned by the factor (and we take the second half chain)\n",
    "        samples_thinned = samples[tomo][:,1:][:,nheights//2:][:,::factor]\n",
    "        \n",
    "        if tomo == 0:\n",
    "            print(f'Number of samples before slicing is {samples_thinned.shape[1]}')\n",
    "        \n",
    "        # take the last 5000 samples \n",
    "        samples_thinned = samples_thinned[:,-nlast:]\n",
    "        \n",
    "        # compute the mean \n",
    "        samples_mean = np.mean(samples_thinned, axis = 1).reshape(-1,1)\n",
    "        \n",
    "        # KV-450 takes as input, a file with the first column being redshift and others as heights\n",
    "        # therefore, each column (except the first) is an n(z) sample\n",
    "        samples_tomo = np.concatenate([redshift, samples_thinned], axis = 1)\n",
    "        samples_tomo_mean = np.concatenate([redshift, samples_mean], axis = 1)\n",
    "        \n",
    "        files[z_interval[tomo]] = samples_tomo\n",
    "        \n",
    "        if save:\n",
    "        \n",
    "            # folder name\n",
    "            folder = work_folder + f'Nz_Bayes/Nz_Bayes_{nlast}/Nz_Bayes_Bootstrap_' +str(kwargs['number'])\n",
    "            folder_m = work_folder + f'Nz_Bayes/Nz_Bayes_{nlast}/Nz_Bayes_Mean_' +str(kwargs['number'])\n",
    "\n",
    "            # create the folder\n",
    "            os.makedirs(folder, exist_ok=True)\n",
    "            os.makedirs(folder_m, exist_ok=True)\n",
    "\n",
    "            # file name\n",
    "            fname = 'Nz_Bayes_z'+z_interval[tomo]\n",
    "\n",
    "            # use compressed format to store data\n",
    "            np.savetxt(folder + '/' + fname + '.asc', samples_tomo, fmt='%1.5f')\n",
    "            np.savetxt(folder_m + '/' + fname + '.asc', samples_tomo_mean, fmt='%1.5f')\n",
    "        \n",
    "    return files"
   ]
  },
  {
   "cell_type": "markdown",
   "metadata": {},
   "source": [
    "# Notes\n",
    "\n",
    "- There are 126 000 MCMC samples.\n",
    "- Thinning factor = 12, and this results in 5250 $n(z)$ samples. \n"
   ]
  },
  {
   "cell_type": "code",
   "execution_count": 29,
   "metadata": {},
   "outputs": [],
   "source": [
    "# nz = load_set(2)"
   ]
  },
  {
   "cell_type": "code",
   "execution_count": 30,
   "metadata": {},
   "outputs": [],
   "source": [
    "# files = thinning(nz, 12, save = False, number = 2)"
   ]
  },
  {
   "cell_type": "markdown",
   "metadata": {},
   "source": [
    "Plot some traces"
   ]
  },
  {
   "cell_type": "code",
   "execution_count": 31,
   "metadata": {},
   "outputs": [],
   "source": [
    "# for tomo in range(5):\n",
    "#     for h in range(10):\n",
    "#         trace_heights(nz, tomo, h, save = False, number = 2)"
   ]
  },
  {
   "cell_type": "markdown",
   "metadata": {},
   "source": [
    "# Main"
   ]
  },
  {
   "cell_type": "code",
   "execution_count": 32,
   "metadata": {},
   "outputs": [],
   "source": [
    "def main(num, nlast: int= 5000):\n",
    "    \n",
    "    assert num in [2, 3, 4, 5], 'The number should be 2, 3, 4 or 5.'\n",
    "    \n",
    "    # load the n(z)\n",
    "    nz = load_set(num)\n",
    "    \n",
    "    # the number of samples (heights)\n",
    "    nheights = nz[0].shape[1]-1   \n",
    "    thinning_factor = int(nheights/2 // nlast)\n",
    "    files = thinning(nz, thinning_factor, nlast, save = True, number = num)\n",
    "    \n",
    "    print(f'The number of samples is {nheights}')\n",
    "    print(f'The thinning factor is {thinning_factor}')\n",
    "    print(f'Shape of file is {files[z_interval[0]].shape[1] - 1}')\n",
    "    print('*'*50)\n",
    "\n",
    "    for tomo in range(5):\n",
    "        for h in range(10):\n",
    "            trace_heights(nz, tomo, h, nlast, save = True, number = num)\n",
    "                \n",
    "    return files    "
   ]
  },
  {
   "cell_type": "code",
   "execution_count": 35,
   "metadata": {},
   "outputs": [
    {
     "name": "stdout",
     "output_type": "stream",
     "text": [
      "Number of samples before slicing is 5250\n",
      "The number of samples is 126000\n",
      "The thinning factor is 12\n",
      "Shape of file is 5000\n",
      "**************************************************\n",
      "Number of samples before slicing is 5223\n",
      "The number of samples is 94000\n",
      "The thinning factor is 9\n",
      "Shape of file is 5000\n",
      "**************************************************\n",
      "Number of samples before slicing is 5130\n",
      "The number of samples is 184667\n",
      "The thinning factor is 18\n",
      "Shape of file is 5000\n",
      "**************************************************\n",
      "Number of samples before slicing is 5142\n",
      "The number of samples is 267334\n",
      "The thinning factor is 26\n",
      "Shape of file is 5000\n",
      "**************************************************\n"
     ]
    }
   ],
   "source": [
    "files_2 = main(2, nlast = 5000)\n",
    "files_3 = main(3, nlast = 5000)\n",
    "files_4 = main(4, nlast = 5000)\n",
    "files_5 = main(5, nlast = 5000)"
   ]
  },
  {
   "cell_type": "markdown",
   "metadata": {},
   "source": [
    "### Set 2 \n",
    "- The number of samples is 126000\n",
    "- The thinning factor is 12\n",
    "- Shape of final file is 5250\n",
    "\n",
    "### Set 3 \n",
    "- The number of samples is 94000\n",
    "- The thinning factor is 9\n",
    "- Shape of final file is 5223\n",
    "\n",
    "### Set 4 \n",
    "- The number of samples is 184667\n",
    "- The thinning factor is 18\n",
    "- Shape of final file is 5130\n",
    "\n",
    "### Set 5\n",
    "- The number of samples is 267334\n",
    "- The thinning factor is 26\n",
    "- Shape of final file is 5142"
   ]
  },
  {
   "cell_type": "code",
   "execution_count": null,
   "metadata": {},
   "outputs": [],
   "source": []
  }
 ],
 "metadata": {
  "kernelspec": {
   "display_name": "Python 3",
   "language": "python",
   "name": "python3"
  },
  "language_info": {
   "codemirror_mode": {
    "name": "ipython",
    "version": 3
   },
   "file_extension": ".py",
   "mimetype": "text/x-python",
   "name": "python",
   "nbconvert_exporter": "python",
   "pygments_lexer": "ipython3",
   "version": "3.7.6"
  }
 },
 "nbformat": 4,
 "nbformat_minor": 4
}
