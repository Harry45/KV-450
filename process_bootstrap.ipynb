{
 "cells": [
  {
   "cell_type": "code",
   "execution_count": 9,
   "metadata": {},
   "outputs": [],
   "source": [
    "import os\n",
    "import pandas as pd \n",
    "import numpy as np "
   ]
  },
  {
   "cell_type": "code",
   "execution_count": 41,
   "metadata": {},
   "outputs": [],
   "source": [
    "def process_table(boot_file: str, mcmc_file: str, save: bool = True) -> pd.DataFrame:\n",
    "    \n",
    "    # load the file which contains the index of the n(z) sample\n",
    "    boot_file = np.loadtxt(boot_file + '.txt')\n",
    "    \n",
    "    # load the MCMC file \n",
    "    mcmc = np.loadtxt(mcmc_file + '.txt')\n",
    "    \n",
    "    # create dataframes with specific column names\n",
    "    boot_df = pd.DataFrame(boot_file, columns=['Index', '-logL'])\n",
    "    mcmc_df = pd.DataFrame(mcmc, columns=['N', '-logL'] + ['p'+str(i+1) for i in range(11)])\n",
    "    mcmc_df['N'] = mcmc_df['N'].astype('int')\n",
    "    \n",
    "    # find the rows common to both files (by comparing the log-likelihood)\n",
    "    index_df = pd.DataFrame(boot_df[boot_df['-logL'].isin(mcmc_df['-logL'])]['Index'], dtype=int)\n",
    "    index_df.reset_index(drop=True, inplace = True)\n",
    "    \n",
    "    # combine both files\n",
    "    final_df = pd.concat([index_df, mcmc_df], axis = 1)\n",
    "    final_df = final_df.dropna(axis=0)\n",
    "    \n",
    "    if save:\n",
    "        final_df.to_csv(mcmc_file + '_boot.csv')\n",
    "    \n",
    "    return final_df"
   ]
  },
  {
   "cell_type": "code",
   "execution_count": 42,
   "metadata": {},
   "outputs": [],
   "source": [
    "folder = 'KV-450-Bayes-Random-Set-4000-Long-Chain-Index/'\n",
    "files = np.asarray(os.listdir(folder))"
   ]
  },
  {
   "cell_type": "code",
   "execution_count": 43,
   "metadata": {},
   "outputs": [],
   "source": [
    "mcmc_files = files[['__' in files[i] for i in range(len(files))]]\n",
    "mcmc_files = [x.split('.')[0] for x in mcmc_files]"
   ]
  },
  {
   "cell_type": "code",
   "execution_count": 44,
   "metadata": {},
   "outputs": [],
   "source": [
    "all_df = []\n",
    "\n",
    "for i in range(8):\n",
    "    df = process_table('mp_output', folder + mcmc_files[i], save = False)\n",
    "    all_df.append(df)"
   ]
  },
  {
   "cell_type": "code",
   "execution_count": 48,
   "metadata": {},
   "outputs": [],
   "source": [
    "samples = pd.concat(all_df, axis = 0)\n",
    "samples.reset_index(inplace=True)"
   ]
  },
  {
   "cell_type": "code",
   "execution_count": 60,
   "metadata": {},
   "outputs": [],
   "source": [
    "set_2 = samples[(samples['Index'] >= 0) & (samples['Index'] <= 999)]\n",
    "set_3 = samples[(samples['Index'] >= 1000) & (samples['Index'] <= 1999)]\n",
    "set_4 = samples[(samples['Index'] >= 2000) & (samples['Index'] <= 2999)]\n",
    "set_5 = samples[(samples['Index'] >= 3000) & (samples['Index'] <= 3999)]"
   ]
  },
  {
   "cell_type": "code",
   "execution_count": 62,
   "metadata": {},
   "outputs": [],
   "source": [
    "# samples.to_csv('all_samples.csv')\n",
    "# set_2.to_csv('set_2.csv')\n",
    "# set_3.to_csv('set_3.csv')\n",
    "# set_4.to_csv('set_4.csv')\n",
    "# set_5.to_csv('set_5.csv')"
   ]
  },
  {
   "cell_type": "code",
   "execution_count": null,
   "metadata": {},
   "outputs": [],
   "source": []
  }
 ],
 "metadata": {
  "kernelspec": {
   "display_name": "Python 3",
   "language": "python",
   "name": "python3"
  },
  "language_info": {
   "codemirror_mode": {
    "name": "ipython",
    "version": 3
   },
   "file_extension": ".py",
   "mimetype": "text/x-python",
   "name": "python",
   "nbconvert_exporter": "python",
   "pygments_lexer": "ipython3",
   "version": "3.7.6"
  }
 },
 "nbformat": 4,
 "nbformat_minor": 2
}
