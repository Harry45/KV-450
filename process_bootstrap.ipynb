{
 "cells": [
  {
   "cell_type": "code",
   "execution_count": 23,
   "metadata": {},
   "outputs": [],
   "source": [
    "import os\n",
    "import pandas as pd \n",
    "import numpy as np \n",
    "import utils.statistics as us"
   ]
  },
  {
   "cell_type": "code",
   "execution_count": 2,
   "metadata": {},
   "outputs": [],
   "source": [
    "def process_table(boot_file: str, mcmc_file: str, save: bool = True) -> pd.DataFrame:\n",
    "    \n",
    "    # load the file which contains the index of the n(z) sample\n",
    "    boot_file = np.loadtxt(boot_file + '.txt')\n",
    "    \n",
    "    # load the MCMC file \n",
    "    mcmc = np.loadtxt(mcmc_file + '.txt')\n",
    "    \n",
    "    # create dataframes with specific column names\n",
    "    boot_df = pd.DataFrame(boot_file, columns=['Index', '-logL'])\n",
    "    mcmc_df = pd.DataFrame(mcmc, columns=['N', '-logL'] + ['p'+str(i+1) for i in range(11)])\n",
    "    mcmc_df['N'] = mcmc_df['N'].astype('int')\n",
    "    \n",
    "    # find the rows common to both files (by comparing the log-likelihood)\n",
    "    index_df = pd.DataFrame(boot_df[boot_df['-logL'].isin(mcmc_df['-logL'])]['Index'], dtype=int)\n",
    "    index_df.reset_index(drop=True, inplace = True)\n",
    "    \n",
    "    # combine both files\n",
    "    final_df = pd.concat([index_df, mcmc_df], axis = 1)\n",
    "    final_df = final_df.dropna(axis=0)\n",
    "    \n",
    "    if save:\n",
    "        final_df.to_csv(mcmc_file + '_boot.csv')\n",
    "    \n",
    "    return final_df"
   ]
  },
  {
   "cell_type": "code",
   "execution_count": 5,
   "metadata": {},
   "outputs": [],
   "source": [
    "PATH = '/home/harry/Desktop/MontePython-V3.4/chains/'\n",
    "folder = PATH + 'KV-450-Bayes-Random-Set-6/'\n",
    "\n",
    "# full path where the likelihood values are stored\n",
    "like = PATH + 'mp_output_6'\n",
    "\n",
    "files = np.asarray(os.listdir(folder))"
   ]
  },
  {
   "cell_type": "code",
   "execution_count": 4,
   "metadata": {},
   "outputs": [],
   "source": [
    "mcmc_files = files[['__' in files[i] for i in range(len(files))]]\n",
    "mcmc_files = [x.split('.')[0] for x in mcmc_files]"
   ]
  },
  {
   "cell_type": "code",
   "execution_count": 6,
   "metadata": {},
   "outputs": [],
   "source": [
    "all_df = []\n",
    "\n",
    "for i in range(8):\n",
    "    df = process_table(like, folder + mcmc_files[i], save = False)\n",
    "    all_df.append(df)"
   ]
  },
  {
   "cell_type": "code",
   "execution_count": 7,
   "metadata": {},
   "outputs": [],
   "source": [
    "samples = pd.concat(all_df, axis = 0)\n",
    "samples.reset_index(inplace=True)"
   ]
  },
  {
   "cell_type": "code",
   "execution_count": 8,
   "metadata": {},
   "outputs": [],
   "source": [
    "set_2 = samples[(samples['Index'] >= 0) & (samples['Index'] <= 4999)]\n",
    "set_3 = samples[(samples['Index'] >= 5000) & (samples['Index'] <= 9999)]\n",
    "set_4 = samples[(samples['Index'] >= 10000) & (samples['Index'] <= 14999)]\n",
    "set_5 = samples[(samples['Index'] >= 15000) & (samples['Index'] <= 19999)]"
   ]
  },
  {
   "cell_type": "code",
   "execution_count": 19,
   "metadata": {},
   "outputs": [],
   "source": [
    "def extract_parameters(file: pd.DataFrame):\n",
    "    \n",
    "    samples = file[['p'+str(i+1) for i in range(11)]].values\n",
    "    nsamples = samples.shape[0]\n",
    "    \n",
    "    # compute S_8 \n",
    "    S8 = samples[:,-1] * np.sqrt(samples[:,-2] / 0.3)\n",
    "    S8 = S8.reshape(nsamples, 1) \n",
    "    Om = samples[:,-2].reshape(nsamples, 1)\n",
    "    \n",
    "    S8_Om = np.concatenate([Om, S8], axis = 1)\n",
    "    \n",
    "    return samples, S8_Om"
   ]
  },
  {
   "cell_type": "code",
   "execution_count": 22,
   "metadata": {},
   "outputs": [],
   "source": [
    "labels = [r'$\\Omega_{\\textrm{m}}$', r'$S_{8}$']"
   ]
  },
  {
   "cell_type": "code",
   "execution_count": 27,
   "metadata": {},
   "outputs": [],
   "source": [
    "samples_combined, two_params_combined = extract_parameters(samples)\n",
    "samples_2, two_params_2 = extract_parameters(set_2)\n",
    "samples_3, two_params_3 = extract_parameters(set_3)\n",
    "samples_4, two_params_4 = extract_parameters(set_4)\n",
    "samples_5, two_params_5 = extract_parameters(set_5)"
   ]
  },
  {
   "cell_type": "code",
   "execution_count": 28,
   "metadata": {},
   "outputs": [
    {
     "name": "stdout",
     "output_type": "stream",
     "text": [
      "Using the median\n",
      "--------------------------------------------------------------------------------\n",
      "$\\Omega_{\\textrm{m}}$                    :  0.305 ± (0.096, 0.100)\n",
      "$S_{8}$                                  :  0.757 ± (0.039, 0.040)\n",
      "\n",
      "Using the mean\n",
      "--------------------------------------------------------------------------------\n",
      "$\\Omega_{\\textrm{m}}$                    :  0.305 ± (0.096, 0.101)\n",
      "$S_{8}$                                  :  0.756 ± (0.039, 0.039)\n"
     ]
    }
   ],
   "source": [
    "us.summary(two_params_combined, labels, 1)"
   ]
  },
  {
   "cell_type": "code",
   "execution_count": 29,
   "metadata": {},
   "outputs": [
    {
     "name": "stdout",
     "output_type": "stream",
     "text": [
      "Using the median\n",
      "--------------------------------------------------------------------------------\n",
      "$\\Omega_{\\textrm{m}}$                    :  0.305 ± (0.096, 0.100)\n",
      "$S_{8}$                                  :  0.756 ± (0.039, 0.040)\n",
      "\n",
      "Using the mean\n",
      "--------------------------------------------------------------------------------\n",
      "$\\Omega_{\\textrm{m}}$                    :  0.306 ± (0.096, 0.100)\n",
      "$S_{8}$                                  :  0.756 ± (0.039, 0.039)\n"
     ]
    }
   ],
   "source": [
    "us.summary(two_params_2, labels, 1)"
   ]
  },
  {
   "cell_type": "code",
   "execution_count": 30,
   "metadata": {},
   "outputs": [
    {
     "name": "stdout",
     "output_type": "stream",
     "text": [
      "Using the median\n",
      "--------------------------------------------------------------------------------\n",
      "$\\Omega_{\\textrm{m}}$                    :  0.303 ± (0.098, 0.100)\n",
      "$S_{8}$                                  :  0.757 ± (0.040, 0.040)\n",
      "\n",
      "Using the mean\n",
      "--------------------------------------------------------------------------------\n",
      "$\\Omega_{\\textrm{m}}$                    :  0.305 ± (0.096, 0.101)\n",
      "$S_{8}$                                  :  0.756 ± (0.040, 0.039)\n"
     ]
    }
   ],
   "source": [
    "us.summary(two_params_3, labels, 1)"
   ]
  },
  {
   "cell_type": "code",
   "execution_count": 31,
   "metadata": {},
   "outputs": [
    {
     "name": "stdout",
     "output_type": "stream",
     "text": [
      "Using the median\n",
      "--------------------------------------------------------------------------------\n",
      "$\\Omega_{\\textrm{m}}$                    :  0.305 ± (0.096, 0.099)\n",
      "$S_{8}$                                  :  0.757 ± (0.039, 0.040)\n",
      "\n",
      "Using the mean\n",
      "--------------------------------------------------------------------------------\n",
      "$\\Omega_{\\textrm{m}}$                    :  0.305 ± (0.095, 0.100)\n",
      "$S_{8}$                                  :  0.756 ± (0.040, 0.040)\n"
     ]
    }
   ],
   "source": [
    "us.summary(two_params_4, labels, 1)"
   ]
  },
  {
   "cell_type": "code",
   "execution_count": 32,
   "metadata": {},
   "outputs": [
    {
     "name": "stdout",
     "output_type": "stream",
     "text": [
      "Using the median\n",
      "--------------------------------------------------------------------------------\n",
      "$\\Omega_{\\textrm{m}}$                    :  0.305 ± (0.097, 0.102)\n",
      "$S_{8}$                                  :  0.757 ± (0.039, 0.040)\n",
      "\n",
      "Using the mean\n",
      "--------------------------------------------------------------------------------\n",
      "$\\Omega_{\\textrm{m}}$                    :  0.305 ± (0.096, 0.102)\n",
      "$S_{8}$                                  :  0.756 ± (0.039, 0.040)\n"
     ]
    }
   ],
   "source": [
    "us.summary(two_params_5, labels, 1)"
   ]
  },
  {
   "cell_type": "code",
   "execution_count": 33,
   "metadata": {},
   "outputs": [],
   "source": [
    "# os.makedirs('subsets', exist_ok=True)\n",
    "# samples.to_csv('subsets/all_samples.csv')\n",
    "# set_2.to_csv('subsets/set_2.csv')\n",
    "# set_3.to_csv('subsets/set_3.csv')\n",
    "# set_4.to_csv('subsets/set_4.csv')\n",
    "# set_5.to_csv('subsets/set_5.csv')"
   ]
  },
  {
   "cell_type": "code",
   "execution_count": null,
   "metadata": {},
   "outputs": [],
   "source": []
  }
 ],
 "metadata": {
  "kernelspec": {
   "display_name": "Python 3",
   "language": "python",
   "name": "python3"
  },
  "language_info": {
   "codemirror_mode": {
    "name": "ipython",
    "version": 3
   },
   "file_extension": ".py",
   "mimetype": "text/x-python",
   "name": "python",
   "nbconvert_exporter": "python",
   "pygments_lexer": "ipython3",
   "version": "3.7.6"
  }
 },
 "nbformat": 4,
 "nbformat_minor": 2
}
