{
 "cells": [
  {
   "cell_type": "markdown",
   "metadata": {},
   "source": [
    "### $n(z)$ Distributions"
   ]
  },
  {
   "cell_type": "code",
   "execution_count": null,
   "metadata": {},
   "outputs": [],
   "source": [
    "import numpy as np\n",
    "import matplotlib.pylab as plt\n",
    "\n",
    "plt.rc('text', usetex=True)\n",
    "plt.rc('font',**{'family':'sans-serif','serif':['Palatino']})\n",
    "figSize  = (12, 8)\n",
    "fontSize = 20\n",
    "\n",
    "folder = '/home/harry/Desktop/MontePython-V3.4/data/KV450_COSMIC_SHEAR_DATA_RELEASE/REDSHIFT_DISTRIBUTIONS/'"
   ]
  },
  {
   "cell_type": "code",
   "execution_count": null,
   "metadata": {},
   "outputs": [],
   "source": [
    "# Mean - Bayes\n",
    "gfile_1 = np.loadtxt(folder + 'Nz_Bayes/Nz_Bayes_Mean/Nz_Bayes_z0.1t0.3.asc')\n",
    "gfile_2 = np.loadtxt(folder + 'Nz_Bayes/Nz_Bayes_Mean/Nz_Bayes_z0.3t0.5.asc')\n",
    "gfile_3 = np.loadtxt(folder + 'Nz_Bayes/Nz_Bayes_Mean/Nz_Bayes_z0.5t0.7.asc')\n",
    "gfile_4 = np.loadtxt(folder + 'Nz_Bayes/Nz_Bayes_Mean/Nz_Bayes_z0.7t0.9.asc')\n",
    "gfile_5 = np.loadtxt(folder + 'Nz_Bayes/Nz_Bayes_Mean/Nz_Bayes_z0.9t1.2.asc')\n",
    "\n",
    "# Samples - Bayes\n",
    "s_gfile_1 = np.loadtxt(folder + 'Nz_Bayes/Nz_Bayes_Bootstrap/Nz_Bayes_z0.1t0.3.asc')\n",
    "s_gfile_2 = np.loadtxt(folder + 'Nz_Bayes/Nz_Bayes_Bootstrap/Nz_Bayes_z0.3t0.5.asc')\n",
    "s_gfile_3 = np.loadtxt(folder + 'Nz_Bayes/Nz_Bayes_Bootstrap/Nz_Bayes_z0.5t0.7.asc')\n",
    "s_gfile_4 = np.loadtxt(folder + 'Nz_Bayes/Nz_Bayes_Bootstrap/Nz_Bayes_z0.7t0.9.asc')\n",
    "s_gfile_5 = np.loadtxt(folder + 'Nz_Bayes/Nz_Bayes_Bootstrap/Nz_Bayes_z0.9t1.2.asc')\n",
    "\n",
    "# Mean - DIR\n",
    "dirf1 = np.loadtxt(folder + 'Nz_DIR/Nz_DIR_Mean/Nz_DIR_z0.1t0.3.asc')\n",
    "dirf2 = np.loadtxt(folder + 'Nz_DIR/Nz_DIR_Mean/Nz_DIR_z0.3t0.5.asc')\n",
    "dirf3 = np.loadtxt(folder + 'Nz_DIR/Nz_DIR_Mean/Nz_DIR_z0.5t0.7.asc')\n",
    "dirf4 = np.loadtxt(folder + 'Nz_DIR/Nz_DIR_Mean/Nz_DIR_z0.7t0.9.asc')\n",
    "dirf5 = np.loadtxt(folder + 'Nz_DIR/Nz_DIR_Mean/Nz_DIR_z0.9t1.2.asc')"
   ]
  },
  {
   "cell_type": "code",
   "execution_count": null,
   "metadata": {},
   "outputs": [],
   "source": [
    "def plot_nz(gmean, gsamples, dirmean, label):\n",
    "    plt.figure(figsize=(8,8))\n",
    "    for i in range(1,gsamples.shape[1]):\n",
    "        plt.plot(gsamples[:,0], gsamples[:,i], lw = 1)\n",
    "    plt.plot(gmean[:,0], gmean[:,1], linestyle = 'dashed', c = 'k', lw = 2, label = 'Bayes (Mean)')\n",
    "    plt.plot(dirmean[:,0], dirmean[:,1], linestyle = 'dotted', c = 'g', lw = 2, label = 'DIR (Mean)')\n",
    "    plt.xlabel(r'$z$', fontsize = fontSize)\n",
    "    plt.ylabel(r'$n_{'+str(label)+'}(z)$', fontsize = fontSize)\n",
    "    plt.tick_params(axis='x', labelsize=fontSize)\n",
    "    plt.tick_params(axis='y', labelsize=fontSize)\n",
    "    plt.ylim(0.0, 5.5)\n",
    "    plt.xlim(0.0, 6.0)\n",
    "    plt.legend(loc = 'best',prop={'family':'sans-serif', 'size':15})\n",
    "    plt.savefig('/home/harry/Desktop/Bayes-Plots/plots_'+str(label)+'.pdf', bbox_inches = 'tight')\n",
    "    plt.close()"
   ]
  },
  {
   "cell_type": "code",
   "execution_count": null,
   "metadata": {},
   "outputs": [],
   "source": [
    "plot_nz(gfile_1, s_gfile_1, dirf1, 1)\n",
    "plot_nz(gfile_2, s_gfile_2, dirf2, 2)\n",
    "plot_nz(gfile_3, s_gfile_3, dirf3, 3)\n",
    "plot_nz(gfile_4, s_gfile_4, dirf4, 4)\n",
    "plot_nz(gfile_5, s_gfile_5, dirf5, 5)"
   ]
  },
  {
   "cell_type": "markdown",
   "metadata": {},
   "source": [
    "### Train a GP for $\\sigma_{8}$"
   ]
  },
  {
   "cell_type": "code",
   "execution_count": null,
   "metadata": {},
   "outputs": [],
   "source": [
    "import ml.zerogp as zgp\n",
    "import utils.helpers as hp\n",
    "import numpy as np"
   ]
  },
  {
   "cell_type": "code",
   "execution_count": null,
   "metadata": {},
   "outputs": [],
   "source": [
    "inputs = hp.load_arrays('sigmaEight', 'cosmologies')\n",
    "outputs = hp.load_arrays('sigmaEight', 'sigma_8')"
   ]
  },
  {
   "cell_type": "code",
   "execution_count": null,
   "metadata": {},
   "outputs": [],
   "source": [
    "Nrestart    = 2\n",
    "Ndim        = 5\n",
    "bounds      = np.repeat(np.array([[-1.5,6]]), Ndim+1, axis = 0)\n",
    "bounds[0] = np.array([-5, 5])"
   ]
  },
  {
   "cell_type": "code",
   "execution_count": null,
   "metadata": {},
   "outputs": [],
   "source": [
    "gp_module = zgp.GP(inputs, outputs, 1E-6, True, False, False)"
   ]
  },
  {
   "cell_type": "code",
   "execution_count": null,
   "metadata": {},
   "outputs": [],
   "source": [
    "gp_module.do_transformation()"
   ]
  },
  {
   "cell_type": "code",
   "execution_count": null,
   "metadata": {},
   "outputs": [],
   "source": [
    "hyperparameters = gp_module.fit(method = 'L-BFGS-B', bounds = bounds, \n",
    "              options = {'ftol':1E-12, 'maxiter':500}, n_restart=Nrestart)"
   ]
  },
  {
   "cell_type": "code",
   "execution_count": null,
   "metadata": {},
   "outputs": [],
   "source": [
    "testpoint = np.array([0.12, 3.45, 0.0225, 1.0, 0.72])"
   ]
  },
  {
   "cell_type": "code",
   "execution_count": null,
   "metadata": {},
   "outputs": [],
   "source": [
    "gp_module.prediction(testpoint)"
   ]
  },
  {
   "cell_type": "markdown",
   "metadata": {},
   "source": [
    "### Load MCMC samples\n",
    "\n",
    "To compute the value of $\\sigma_{8}$"
   ]
  },
  {
   "cell_type": "code",
   "execution_count": null,
   "metadata": {},
   "outputs": [],
   "source": [
    "e_mulator = hp.load_pkl_file('samples', 'EMUGP_FF_Home_PC_Bayes_15000_18')\n",
    "s_mulator = hp.load_pkl_file('samples', 'CLASS_FF_Home_PC_Bayes_15000_18')"
   ]
  },
  {
   "cell_type": "code",
   "execution_count": null,
   "metadata": {},
   "outputs": [],
   "source": [
    "e_cosmologies = e_mulator.flatchain[:,0:5]\n",
    "s_cosmologies = s_mulator.flatchain[:,0:5]"
   ]
  },
  {
   "cell_type": "code",
   "execution_count": null,
   "metadata": {},
   "outputs": [],
   "source": [
    "nsamples_e = e_cosmologies.shape[0]\n",
    "nsamples_s = s_cosmologies.shape[0]"
   ]
  },
  {
   "cell_type": "code",
   "execution_count": null,
   "metadata": {},
   "outputs": [],
   "source": [
    "sigma_8_emu = [gp_module.prediction(e_cosmologies[i]) for i in range(nsamples_e)]\n",
    "sigma_8_cls = [gp_module.prediction(s_cosmologies[i]) for i in range(nsamples_s)]"
   ]
  },
  {
   "cell_type": "code",
   "execution_count": null,
   "metadata": {},
   "outputs": [],
   "source": [
    "sigma_8_emu = np.array(sigma_8_emu)\n",
    "sigma_8_cls = np.array(sigma_8_cls)"
   ]
  },
  {
   "cell_type": "markdown",
   "metadata": {},
   "source": [
    "### Compute $\\Omega_{\\textrm{m}}$"
   ]
  },
  {
   "cell_type": "code",
   "execution_count": null,
   "metadata": {},
   "outputs": [],
   "source": [
    "omega_matter_emu = (e_cosmologies[:,0] + e_cosmologies[:,2])/e_cosmologies[:,4]**2\n",
    "omega_matter_cls = (s_cosmologies[:,0] + s_cosmologies[:,2])/s_cosmologies[:,4]**2"
   ]
  },
  {
   "cell_type": "markdown",
   "metadata": {},
   "source": [
    "### Triangle Plot"
   ]
  },
  {
   "cell_type": "code",
   "execution_count": null,
   "metadata": {},
   "outputs": [],
   "source": [
    "import numpy as np\n",
    "import matplotlib.pylab as plt\n",
    "from getdist import plots, MCSamples\n",
    "import getdist\n",
    "import matplotlib.patches as mpatches\n",
    "from matplotlib.lines import Line2D\n",
    "\n",
    "plt.rc('text', usetex=True)\n",
    "plt.rc('font',**{'family':'sans-serif','serif':['Palatino']})\n",
    "figSize  = (12, 8)\n",
    "fontSize = 20\n",
    "\n",
    "settings={'mult_bias_correction_order':0,'smooth_scale_2D':0.3, 'smooth_scale_1D':0.3}"
   ]
  },
  {
   "cell_type": "code",
   "execution_count": null,
   "metadata": {},
   "outputs": [],
   "source": [
    "ln_As_emu = e_mulator.flatchain[:,1].reshape(nsamples_e, 1)\n",
    "ln_As_cls = s_mulator.flatchain[:,1].reshape(nsamples_s, 1)"
   ]
  },
  {
   "cell_type": "code",
   "execution_count": null,
   "metadata": {},
   "outputs": [],
   "source": [
    "samples_emu = np.concatenate((omega_matter_emu.reshape(nsamples_e, 1), ln_As_emu), axis = 1)\n",
    "samples_cls = np.concatenate((omega_matter_cls.reshape(nsamples_s, 1), ln_As_cls), axis = 1)"
   ]
  },
  {
   "cell_type": "code",
   "execution_count": null,
   "metadata": {},
   "outputs": [],
   "source": [
    "# samples_emu = np.concatenate((omega_matter_emu.reshape(nsamples_e, 1), sigma_8_emu), axis = 1)\n",
    "# samples_cls = np.concatenate((omega_matter_cls.reshape(nsamples_s, 1), sigma_8_cls), axis = 1)"
   ]
  },
  {
   "cell_type": "code",
   "execution_count": null,
   "metadata": {},
   "outputs": [],
   "source": [
    "# number of dimensions for plotting\n",
    "ndim = 2\n",
    "\n",
    "# some names for the parameters\n",
    "names = [\"x%s\"%i for i in range(ndim)]\n",
    "\n",
    "# actual labels\n",
    "# labels = [r'$\\Omega_{\\textrm{m}}$', r'$\\sigma_{8}$']\n",
    "labels = [r'$\\Omega_{\\textrm{m}}$', r'$\\textrm{ln}(10^{10}A_{\\textrm{s}})$']\n",
    "\n",
    "emu_plot = MCSamples(samples=samples_emu,names = names, labels = labels, settings = settings)\n",
    "cls_plot = MCSamples(samples=samples_cls,names = names, labels = labels, settings = settings)"
   ]
  },
  {
   "cell_type": "code",
   "execution_count": null,
   "metadata": {},
   "outputs": [],
   "source": [
    "c1 = '#EEC591'\n",
    "c3 = '#8B0000'\n",
    "\n",
    "legend_1 = mpatches.Patch(color=c1, label='Simulator')\n",
    "legend_2 = mpatches.Patch(color=c3, label='Gaussian Process')\n",
    "legend   = [legend_1,legend_2]"
   ]
  },
  {
   "cell_type": "code",
   "execution_count": null,
   "metadata": {},
   "outputs": [],
   "source": [
    "G = plots.getSinglePlotter(width_inch=8, ratio=1)\n",
    "G.settings.num_plot_contours = 2\n",
    "G.settings.lw_contour = 2.5\n",
    "G.settings.axes_fontsize = 25\n",
    "G.settings.lab_fontsize = 25\n",
    "G.settings.fontsize = 25 # important for padding in x-axis \n",
    "G.settings.alpha_filled_add = 0.6\n",
    "emu_plot.updateSettings({'contours': [0.68, 0.95]})\n",
    "cls_plot.updateSettings({'contours': [0.68, 0.95]})\n",
    "G.plot_2d(cls_plot, 'x0', 'x1', filled=True, colors=[c1])\n",
    "G.plot_2d(emu_plot, 'x0', 'x1', filled=True, colors=[c3])\n",
    "plt.legend(handles=legend, loc = 'best',prop={'size':20}, borderaxespad=1)\n",
    "# plt.savefig('plots/ln_As_omega_matter.pdf', transparent = False, bbox_inches = 'tight') \n",
    "plt.show()"
   ]
  },
  {
   "cell_type": "markdown",
   "metadata": {},
   "source": [
    "### Testing Mask"
   ]
  },
  {
   "cell_type": "code",
   "execution_count": null,
   "metadata": {},
   "outputs": [],
   "source": [
    "import cosmology.weaklensing as cw"
   ]
  },
  {
   "cell_type": "code",
   "execution_count": null,
   "metadata": {},
   "outputs": [],
   "source": [
    "test = cw.model(emulator=False, ds=False)"
   ]
  },
  {
   "cell_type": "code",
   "execution_count": null,
   "metadata": {},
   "outputs": [],
   "source": [
    "import setpriors as sp\n",
    "import utils.common as uc\n",
    "import numpy as np"
   ]
  },
  {
   "cell_type": "code",
   "execution_count": null,
   "metadata": {},
   "outputs": [],
   "source": [
    "parameters = np.array([0.138, 2.766, 0.022, 1.05, 0.735, -0.83, -0.06*10**-4, 1.032, 1.143])"
   ]
  },
  {
   "cell_type": "code",
   "execution_count": null,
   "metadata": {},
   "outputs": [],
   "source": [
    "# the cosmology part\n",
    "cosmology = uc.mk_dict(sp.cosmo_names, parameters[0:5])\n",
    "\n",
    "# the nuisance part\n",
    "nuisance = uc.mk_dict(sp.nuisance_names, parameters[5:])"
   ]
  },
  {
   "cell_type": "code",
   "execution_count": null,
   "metadata": {},
   "outputs": [],
   "source": [
    "xi = test.total_corr(cosmology, nuisance)"
   ]
  },
  {
   "cell_type": "code",
   "execution_count": null,
   "metadata": {},
   "outputs": [],
   "source": [
    "maskings = np.split(test.mask, 30)"
   ]
  },
  {
   "cell_type": "code",
   "execution_count": null,
   "metadata": {},
   "outputs": [],
   "source": [
    "xi_theory = test.spec_to_corr(cosmology, nuisance)"
   ]
  },
  {
   "cell_type": "code",
   "execution_count": null,
   "metadata": {},
   "outputs": [],
   "source": [
    "test.theta_bins"
   ]
  },
  {
   "cell_type": "code",
   "execution_count": null,
   "metadata": {},
   "outputs": [],
   "source": [
    "for i in range(15):\n",
    "    xi_p = np.split(xi, 30)[i]*np.split(test.theta_bins, 2)[0]\n",
    "    xi_m = np.split(xi, 30)[i+1]*np.split(test.theta_bins, 2)[1]\n",
    "    \n",
    "    print(xi_p)\n",
    "    print('*'*100)\n",
    "    print(xi_m)\n",
    "    print('*'*100)"
   ]
  },
  {
   "cell_type": "code",
   "execution_count": null,
   "metadata": {},
   "outputs": [],
   "source": []
  },
  {
   "cell_type": "markdown",
   "metadata": {},
   "source": [
    "### HMCode test"
   ]
  },
  {
   "cell_type": "code",
   "execution_count": 1,
   "metadata": {},
   "outputs": [],
   "source": [
    "import inference.likelihood as lk\n",
    "import numpy as np "
   ]
  },
  {
   "cell_type": "code",
   "execution_count": 2,
   "metadata": {},
   "outputs": [
    {
     "name": "stderr",
     "output_type": "stream",
     "text": [
      "2022-02-12 14:25:58,964 | configurations | INFO | Angular scale-dependent c-term function loaded successfully.\n",
      "2022-02-12 14:25:58,967 | configurations | INFO | Data loaded from directory: /home/harry/Desktop/MontePython-V3.4/data/KV450_COSMIC_SHEAR_DATA_RELEASE/DATA_VECTOR/KV450_xi_pm_files/\n",
      "2022-02-12 14:25:59,011 | configurations | INFO | Covariance matrix, including shear calibration uncertainty loaded successfully\n",
      "2022-02-12 14:25:59,012 | configurations | INFO | File for applying mask/cut loaded successfully.\n",
      "2022-02-12 14:25:59,014 | configurations | INFO | The masked data vector is stored.\n",
      "2022-02-12 14:25:59,014 | configurations | INFO | Mask applied to covariance matrix\n",
      "2022-02-12 14:25:59,085 | configurations | INFO | Stored masked covariance matrix, including shear uncertainty, cut down to pre-specified scales.\n",
      "2022-02-12 14:25:59,118 | configurations | INFO | Mask applied to data vector\n",
      "2022-02-12 14:25:59,168 | configurations | INFO | Configurations for using the Bessel integration successfully completed.\n"
     ]
    },
    {
     "name": "stdout",
     "output_type": "stream",
     "text": [
      "/Nz_Bayes/Nz_Bayes_Bootstrap_5000/Nz_Bayes_z0.1t0.3.asc\n",
      "/Nz_Bayes/Nz_Bayes_Bootstrap_5000/Nz_Bayes_z0.3t0.5.asc\n",
      "/Nz_Bayes/Nz_Bayes_Bootstrap_5000/Nz_Bayes_z0.5t0.7.asc\n"
     ]
    },
    {
     "name": "stderr",
     "output_type": "stream",
     "text": [
      "2022-02-12 14:25:59,630 | Bayes Redshifts | INFO | Bayes redshift distributions loaded sucessfully.\n",
      "2022-02-12 14:25:59,633 | Bayes Redshifts | INFO | Redshift integrations performed at resolution of redshift distribution histograms\n"
     ]
    },
    {
     "name": "stdout",
     "output_type": "stream",
     "text": [
      "/Nz_Bayes/Nz_Bayes_Bootstrap_5000/Nz_Bayes_z0.7t0.9.asc\n",
      "/Nz_Bayes/Nz_Bayes_Bootstrap_5000/Nz_Bayes_z0.9t1.2.asc\n"
     ]
    }
   ],
   "source": [
    "test = lk.distributions(emulator = False, ds = False)"
   ]
  },
  {
   "cell_type": "code",
   "execution_count": 3,
   "metadata": {},
   "outputs": [
    {
     "data": {
      "text/plain": [
       "{'omega_cdm': {'distribution': 'uniform', 'specs': [0.01, 0.34]},\n",
       " 'ln10^{10}A_s': {'distribution': 'uniform', 'specs': [1.7, 3.3]},\n",
       " 'omega_b': {'distribution': 'uniform', 'specs': [0.01875, 0.0075]},\n",
       " 'n_s': {'distribution': 'uniform', 'specs': [0.7, 0.6]},\n",
       " 'h': {'distribution': 'uniform', 'specs': [0.64, 0.18]}}"
      ]
     },
     "execution_count": 3,
     "metadata": {},
     "output_type": "execute_result"
    }
   ],
   "source": [
    "lk.sp.cosmo"
   ]
  },
  {
   "cell_type": "code",
   "execution_count": 4,
   "metadata": {},
   "outputs": [
    {
     "data": {
      "text/plain": [
       "{'A_IA': {'distribution': 'uniform', 'specs': [-6.0, 12.0]},\n",
       " 'dc': {'distribution': 'norm', 'specs': [0.0, 0.0002]},\n",
       " 'Ac': {'distribution': 'norm', 'specs': [1.01, 0.13]},\n",
       " 'c_min': {'distribution': 'uniform', 'specs': [2.0, 1.13]}}"
      ]
     },
     "execution_count": 4,
     "metadata": {},
     "output_type": "execute_result"
    }
   ],
   "source": [
    "lk.sp.nuisance"
   ]
  },
  {
   "cell_type": "code",
   "execution_count": 5,
   "metadata": {},
   "outputs": [],
   "source": [
    "params = np.array([0.138, 2.766, 0.022, 1.05, 0.735, -0.83, -0.06*10**-4, 1.032, 2.143])"
   ]
  },
  {
   "cell_type": "code",
   "execution_count": 6,
   "metadata": {},
   "outputs": [
    {
     "data": {
      "text/plain": [
       "-91.60451787372688"
      ]
     },
     "execution_count": 6,
     "metadata": {},
     "output_type": "execute_result"
    }
   ],
   "source": [
    "# test.loglikelihoodtest(params)"
   ]
  },
  {
   "cell_type": "code",
   "execution_count": 6,
   "metadata": {},
   "outputs": [],
   "source": [
    "# 1.204679e-01\n",
    "# 3.073197e+00\n",
    "# 2.191453e-02\n",
    "# 9.669738e-01\n",
    "# 6.687480e-01\n",
    "\n",
    "# -3.175438e-01\n",
    "# 2.133482e+00\n",
    "# -7.151810e-05\n",
    "# 9.062219e-01\n",
    "\n",
    "# omega_cdm\n",
    "# ln10^{10}A_s\n",
    "# omega_b\n",
    "# n_s\n",
    "# h\n",
    "\n",
    "# A_IA\n",
    "# c_min\n",
    "# dc\n",
    "# Ac\n",
    "\n",
    "# 94.1389"
   ]
  },
  {
   "cell_type": "code",
   "execution_count": 11,
   "metadata": {},
   "outputs": [],
   "source": [
    "# params = np.array([1.204679e-01, 3.073197e+00, 2.191453e-02, 9.669738e-01, 6.687480e-01, -3.175438e-01, -7.151810e-05, 9.062219e-01, 2.133482e+00]) "
   ]
  },
  {
   "cell_type": "markdown",
   "metadata": {},
   "source": [
    "### Check for the likelihood "
   ]
  },
  {
   "cell_type": "code",
   "execution_count": 30,
   "metadata": {},
   "outputs": [],
   "source": [
    "import numpy as np "
   ]
  },
  {
   "cell_type": "code",
   "execution_count": 31,
   "metadata": {},
   "outputs": [],
   "source": [
    "mp_file = np.loadtxt('/home/harry/Desktop/MontePython-V3.4/chains/KV-450-Bayes/2022-02-12_100__1.txt')"
   ]
  },
  {
   "cell_type": "code",
   "execution_count": 32,
   "metadata": {},
   "outputs": [],
   "source": [
    "mp_like = mp_file[:,1]\n",
    "mp_samples = mp_file[:,2:11]\n",
    "testpoints = mp_samples[:,[0, 1, 2, 3, 4, 5, 7, 8, 6]]\n",
    "npoints = len(mp_like)"
   ]
  },
  {
   "cell_type": "code",
   "execution_count": 33,
   "metadata": {},
   "outputs": [
    {
     "name": "stdout",
     "output_type": "stream",
     "text": [
      "MP: 94.61 and EMCEE 95.32\n",
      "MP: 91.80 and EMCEE 92.66\n",
      "MP: 91.69 and EMCEE 92.65\n",
      "MP: 92.51 and EMCEE 91.71\n"
     ]
    }
   ],
   "source": [
    "for i in range(npoints):\n",
    "    print(f'MP: {mp_like[i]:.2f} and EMCEE {-test.loglikelihoodtest(testpoints[i]):.2f}')"
   ]
  },
  {
   "cell_type": "code",
   "execution_count": null,
   "metadata": {},
   "outputs": [],
   "source": []
  }
 ],
 "metadata": {
  "kernelspec": {
   "display_name": "Python 3",
   "language": "python",
   "name": "python3"
  },
  "language_info": {
   "codemirror_mode": {
    "name": "ipython",
    "version": 3
   },
   "file_extension": ".py",
   "mimetype": "text/x-python",
   "name": "python",
   "nbconvert_exporter": "python",
   "pygments_lexer": "ipython3",
   "version": "3.7.6"
  }
 },
 "nbformat": 4,
 "nbformat_minor": 4
}
