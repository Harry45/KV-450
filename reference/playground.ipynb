{
 "cells": [
  {
   "cell_type": "code",
   "execution_count": 1,
   "metadata": {},
   "outputs": [],
   "source": [
    "import matplotlib.pyplot as plt\n",
    "\n",
    "plt.rc('text', usetex=True)\n",
    "plt.rc('font',**{'family':'sans-serif','serif':['Palatino']})\n",
    "fontSize = 20"
   ]
  },
  {
   "cell_type": "code",
   "execution_count": 31,
   "metadata": {},
   "outputs": [],
   "source": [
    "template_set = False"
   ]
  },
  {
   "cell_type": "code",
   "execution_count": 32,
   "metadata": {},
   "outputs": [],
   "source": [
    "if template_set:\n",
    "    full_title = \"Template Set\"\n",
    "\n",
    "    x = [1, 2, 3, 4, 5, 6, 7]\n",
    "\n",
    "    chains = [\n",
    "        [0.25287, 0.21389, 0.23088, 0.22167, 0.25141, 0.24628, 0.24842],\n",
    "        [0.35424, 0.34687, 0.34952, 0.35058, 0.35368, 0.35324, 0.35230],\n",
    "        [0.44245, 0.43785, 0.43955, 0.44167, 0.44425, 0.44059, 0.44418],\n",
    "        [0.70531, 0.68032, 0.69860, 0.69847, 0.70712, 0.70423, 0.70229],\n",
    "        [0.92173, 0.89721, 0.91642, 0.93412, 0.92267, 0.92614, 0.91983],\n",
    "    ]\n",
    "\n",
    "    sigma = [\n",
    "        [0.00408, 0.00236, 0.00303, 0.00229, 0.00400, 0.00328, 0.00366],\n",
    "        [0.00117, 0.00107, 0.00117, 0.00115, 0.00113, 0.00144, 0.00118],\n",
    "        [0.00164, 0.00153, 0.00165, 0.00157, 0.00158, 0.00176, 0.00167],\n",
    "        [0.00185, 0.00186, 0.00184, 0.00192, 0.00195, 0.00186, 0.00191],\n",
    "        [0.00230, 0.00228, 0.00236, 0.00241, 0.00238, 0.00236, 0.00236],\n",
    "    ]\n",
    "\n",
    "    labels = [r\"$p$\", r\"$u_{1}$\", r\"$u_{2}$\", r\"$u_{3}$\", r\"$v_{1}$\", r\"$v_{2}$\", r\"$v_{3}$\"]\n",
    "    \n",
    "    fname = '/home/harry/Desktop/template_set'\n",
    "\n",
    "# U: 50 \n",
    "# V: 100\n",
    "\n",
    "else:\n",
    "    full_title = r\"Population Set\"\n",
    "\n",
    "    x = [1, 2, 3, 4]\n",
    "\n",
    "    chains = [\n",
    "        [0.25287, 0.26111, 0.26044, 0.25571],\n",
    "        [0.35424, 0.35248, 0.35529, 0.35227],\n",
    "        [0.44245, 0.44328, 0.44438, 0.44118],\n",
    "        [0.70531, 0.70907, 0.70814, 0.708529],\n",
    "        [0.92173, 0.92337, 0.92449, 0.92449],\n",
    "    ]\n",
    "\n",
    "    sigma = [\n",
    "        [0.00408, 0.00435, 0.00416, 0.00420],\n",
    "        [0.00117, 0.00122, 0.00127, 0.00122],\n",
    "        [0.00164, 0.00171, 0.00168, 0.00168],\n",
    "        [0.00185, 0.00189, 0.00189, 0.00194],\n",
    "        [0.00230, 0.00237, 0.00230, 0.00230],\n",
    "    ]\n",
    "\n",
    "    labels = [r\"$p$\", r\"$s_{1}$\", r\"$s_{2}$\", r\"$s_{3}$\"]\n",
    "    fname = '/home/harry/Desktop/population_set'"
   ]
  },
  {
   "cell_type": "code",
   "execution_count": 33,
   "metadata": {},
   "outputs": [],
   "source": [
    "titles = [\n",
    "    r\"$0.1 < z_{BPZ} < 0.3$\",\n",
    "    r\"$0.3 < z_{BPZ} < 0.5$\",\n",
    "    r\"$0.5 < z_{BPZ} < 0.7$\",\n",
    "    r\"$0.7 < z_{BPZ} < 0.9$\",\n",
    "    r\"$0.9 < z_{BPZ} < 1.2$\",\n",
    "]\n",
    "\n",
    "barconfig = {'fmt': \"o\", 'markersize': 5, 'capsize': 0.001, 'elinewidth': 1.5}"
   ]
  },
  {
   "cell_type": "code",
   "execution_count": 34,
   "metadata": {},
   "outputs": [
    {
     "data": {
      "image/png": "[encoded data removed]",
      "text/plain": [
       "<Figure size 864x360 with 5 Axes>"
      ]
     },
     "metadata": {
      "needs_background": "light"
     },
     "output_type": "display_data"
    }
   ],
   "source": [
    "fig, ax = plt.subplots(2, 3, figsize=(12, 5), sharex=False, sharey=False)\n",
    "fig.suptitle(full_title, y=1.02, fontsize=fontSize+3)\n",
    "for i in range(6):\n",
    "    row = i // 3\n",
    "    col = i % 3\n",
    "    ax[row, col].set_xticks(x)\n",
    "    ax[row, col].yaxis.set_major_formatter(plt.FormatStrFormatter(\"%.2f\"))\n",
    "    if i < 5:\n",
    "        ax[row, col].set_title(r\"{}\".format(titles[i]), fontdict={'fontsize': fontSize})\n",
    "        ax[row, col].errorbar(x[1:], chains[i][1:], yerr=sigma[i][1:], c=\"b\", **barconfig)\n",
    "        ax[row, col].errorbar(x[0], chains[i][0], yerr=sigma[i][0], c=\"g\", **barconfig)\n",
    "        ax[row, col].axhspan(chains[i][0] - sigma[i][0], chains[i][0] + sigma[i][0], facecolor=\"0.9\")\n",
    "        ax[row, col].set_xticklabels(labels, fontsize = fontSize)\n",
    "        ax[row, col].tick_params(axis='x', which='major', pad=5, bottom=False)\n",
    "        ax[row, col].tick_params(axis='y', labelsize=fontSize)\n",
    "        ax[row, col].set_ylabel(r'$\\bar{z}$', fontsize = fontSize)\n",
    "fig.subplots_adjust(hspace=0.65)\n",
    "fig.subplots_adjust(wspace=0.45)\n",
    "fig.delaxes(ax[1, 2])\n",
    "plt.savefig(fname + '.pdf', bbox_inches = 'tight')\n",
    "plt.show()"
   ]
  },
  {
   "cell_type": "code",
   "execution_count": null,
   "metadata": {},
   "outputs": [],
   "source": []
  },
  {
   "cell_type": "code",
   "execution_count": null,
   "metadata": {},
   "outputs": [],
   "source": []
  }
 ],
 "metadata": {
  "kernelspec": {
   "display_name": "Python 3",
   "language": "python",
   "name": "python3"
  },
  "language_info": {
   "codemirror_mode": {
    "name": "ipython",
    "version": 3
   },
   "file_extension": ".py",
   "mimetype": "text/x-python",
   "name": "python",
   "nbconvert_exporter": "python",
   "pygments_lexer": "ipython3",
   "version": "3.7.6"
  }
 },
 "nbformat": 4,
 "nbformat_minor": 4
}
